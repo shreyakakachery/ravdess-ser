{
  "nbformat": 4,
  "nbformat_minor": 0,
  "metadata": {
    "colab": {
      "provenance": [],
      "authorship_tag": "ABX9TyODqnBU4n1zegG+Pyn61X3R",
      "include_colab_link": true
    },
    "kernelspec": {
      "name": "python3",
      "display_name": "Python 3"
    },
    "language_info": {
      "name": "python"
    }
  },
  "cells": [
    {
      "cell_type": "markdown",
      "metadata": {
        "id": "view-in-github",
        "colab_type": "text"
      },
      "source": [
        "<a href=\"https://colab.research.google.com/github/shreyakakachery/ravdess-ser/blob/main/ravdess_ser.ipynb\" target=\"_parent\"><img src=\"https://colab.research.google.com/assets/colab-badge.svg\" alt=\"Open In Colab\"/></a>"
      ]
    },
    {
      "cell_type": "code",
      "execution_count": null,
      "metadata": {
        "colab": {
          "base_uri": "https://localhost:8080/"
        },
        "id": "dYt5cR5fFJiC",
        "outputId": "f4046567-72a1-40f1-c00a-161ba4361235"
      },
      "outputs": [
        {
          "output_type": "stream",
          "name": "stdout",
          "text": [
            "Drive already mounted at /content/drive; to attempt to forcibly remount, call drive.mount(\"/content/drive\", force_remount=True).\n",
            "Requirement already satisfied: kaggle in /usr/local/lib/python3.10/dist-packages (1.6.17)\n",
            "Requirement already satisfied: six>=1.10 in /usr/local/lib/python3.10/dist-packages (from kaggle) (1.16.0)\n",
            "Requirement already satisfied: certifi>=2023.7.22 in /usr/local/lib/python3.10/dist-packages (from kaggle) (2024.8.30)\n",
            "Requirement already satisfied: python-dateutil in /usr/local/lib/python3.10/dist-packages (from kaggle) (2.8.2)\n",
            "Requirement already satisfied: requests in /usr/local/lib/python3.10/dist-packages (from kaggle) (2.32.3)\n",
            "Requirement already satisfied: tqdm in /usr/local/lib/python3.10/dist-packages (from kaggle) (4.66.5)\n",
            "Requirement already satisfied: python-slugify in /usr/local/lib/python3.10/dist-packages (from kaggle) (8.0.4)\n",
            "Requirement already satisfied: urllib3 in /usr/local/lib/python3.10/dist-packages (from kaggle) (2.0.7)\n",
            "Requirement already satisfied: bleach in /usr/local/lib/python3.10/dist-packages (from kaggle) (6.1.0)\n",
            "Requirement already satisfied: webencodings in /usr/local/lib/python3.10/dist-packages (from bleach->kaggle) (0.5.1)\n",
            "Requirement already satisfied: text-unidecode>=1.3 in /usr/local/lib/python3.10/dist-packages (from python-slugify->kaggle) (1.3)\n",
            "Requirement already satisfied: charset-normalizer<4,>=2 in /usr/local/lib/python3.10/dist-packages (from requests->kaggle) (3.3.2)\n",
            "Requirement already satisfied: idna<4,>=2.5 in /usr/local/lib/python3.10/dist-packages (from requests->kaggle) (3.8)\n"
          ]
        }
      ],
      "source": [
        "# Mount Google Drive\n",
        "from google.colab import drive\n",
        "drive.mount('/content/drive')"
      ]
    },
    {
      "cell_type": "code",
      "source": [
        "# # Setup kaggle.json\n",
        "# from google.colab import files\n",
        "# files.upload()  # Upload kaggle.json file here"
      ],
      "metadata": {
        "id": "R_MX6LlaJbz9"
      },
      "execution_count": null,
      "outputs": []
    },
    {
      "cell_type": "code",
      "source": [
        "# # Move to correct directory\n",
        "# !mkdir -p ~/.kaggle\n",
        "# !cp kaggle.json ~/.kaggle/\n",
        "# !chmod 600 ~/.kaggle/kaggle.json"
      ],
      "metadata": {
        "id": "WcGQCrOdJbc8"
      },
      "execution_count": null,
      "outputs": []
    },
    {
      "cell_type": "code",
      "source": [
        "# # Verify setup\n",
        "# !kaggle datasets list"
      ],
      "metadata": {
        "id": "ENe8YYZUJ27W"
      },
      "execution_count": null,
      "outputs": []
    },
    {
      "cell_type": "code",
      "source": [
        "# # Download the Kaggle dataset directly to Colab\n",
        "# !kaggle datasets download -d uwrfkaggler/ravdess-emotional-speech-audio # dataset identifier"
      ],
      "metadata": {
        "id": "WSbHcByxJrDp"
      },
      "execution_count": null,
      "outputs": []
    },
    {
      "cell_type": "code",
      "source": [
        "# # Unzip the dataset if needed\n",
        "# !unzip ravdess-emotional-speech-audio.zip"
      ],
      "metadata": {
        "id": "wUiNjFa3Jq-_"
      },
      "execution_count": null,
      "outputs": []
    },
    {
      "cell_type": "markdown",
      "source": [
        "Note: May have to change file path"
      ],
      "metadata": {
        "id": "pNasHJabl5Jf"
      }
    },
    {
      "cell_type": "code",
      "source": [
        "# # Save the processed data to the existing Phonetic Analysis folder\n",
        "# !cp ravdess-emotional-speech-audio.csv '/content/drive/MyDrive/Phonetic Analysis/ravdess'"
      ],
      "metadata": {
        "id": "SFS4prYBJq2M"
      },
      "execution_count": null,
      "outputs": []
    },
    {
      "cell_type": "code",
      "source": [
        "# import os\n",
        "\n",
        "# # Define the new directory path\n",
        "# target_dir = '/content/drive/MyDrive/Phonetic Analysis/ravdess'\n",
        "\n",
        "# # Create the directory if it doesn't exist\n",
        "# if not os.path.exists(target_dir):\n",
        "#     os.makedirs(target_dir)\n"
      ],
      "metadata": {
        "id": "QPTO9-oDZ3k0"
      },
      "execution_count": null,
      "outputs": []
    },
    {
      "cell_type": "markdown",
      "source": [
        "Donno what's happenign in the next block"
      ],
      "metadata": {
        "id": "43LU7tHOg6K9"
      }
    },
    {
      "cell_type": "code",
      "source": [
        "# import shutil\n",
        "\n",
        "# # Path to the directory where files are currently located\n",
        "# source_dir = '/content'\n",
        "\n",
        "# # Move .wav files to the new directory\n",
        "# for filename in os.listdir(source_dir):\n",
        "#     if filename.endswith('.wav'):\n",
        "#         # Construct full file path\n",
        "#         file_path = os.path.join(source_dir, filename)\n",
        "#         # Move the file\n",
        "#         shutil.move(file_path, target_dir)\n",
        "\n",
        "# print(\"Files have been moved to 'ravdess'.\")\n"
      ],
      "metadata": {
        "colab": {
          "base_uri": "https://localhost:8080/"
        },
        "id": "ZLl1IaYiZ_M9",
        "outputId": "f88b90c8-94c1-4e40-a630-07a30faab1e0"
      },
      "execution_count": null,
      "outputs": [
        {
          "output_type": "stream",
          "name": "stdout",
          "text": [
            "Files have been moved to 'ravdess'.\n"
          ]
        }
      ]
    },
    {
      "cell_type": "code",
      "source": [
        "# # Check what is inside /content\n",
        "# !ls /content"
      ],
      "metadata": {
        "id": "tYeMvx-TZ4v7"
      },
      "execution_count": null,
      "outputs": []
    },
    {
      "cell_type": "code",
      "source": [
        "# # List Directories and Files in /content: Start by listing the top-level directories and files in /content\n",
        "# !ls -l /content"
      ],
      "metadata": {
        "id": "T4yJQjxocaah"
      },
      "execution_count": null,
      "outputs": []
    },
    {
      "cell_type": "code",
      "source": [
        "# # Recursively List Files and Directories: Use -R with ls to recursively list all files and directories within /content\n",
        "# !ls -R /content"
      ],
      "metadata": {
        "id": "xjrpFBt0ckEB"
      },
      "execution_count": null,
      "outputs": []
    },
    {
      "cell_type": "code",
      "source": [
        "# # Check for Specific Subdirectories\n",
        "# !ls -l /content/audio_speech_actors_01-24"
      ],
      "metadata": {
        "id": "1NKpOlafc_RH"
      },
      "execution_count": null,
      "outputs": []
    },
    {
      "cell_type": "code",
      "source": [
        "# !ls /content/drive/MyDrive/Phonetic Analysis"
      ],
      "metadata": {
        "id": "70OJiDiaZgYB"
      },
      "execution_count": null,
      "outputs": []
    },
    {
      "cell_type": "markdown",
      "source": [
        "Move .wav files from /content to /ravdess"
      ],
      "metadata": {
        "id": "_DSHdlCLf4-n"
      }
    },
    {
      "cell_type": "code",
      "source": [
        "# # Define source and target directories\n",
        "# source_dir = '/content/audio_speech_actors_01-24'\n",
        "# target_dir = '/content/drive/MyDrive/Phonetic Analysis/ravdess'\n",
        "\n",
        "# # # Create the target directory if it doesn't exist\n",
        "# # if not os.path.exists(target_dir):\n",
        "# #     os.makedirs(target_dir)\n",
        "\n",
        "# # Move all .wav files from actor directories to the ravdess folder\n",
        "# for actor_folder in os.listdir(source_dir):\n",
        "#     actor_path = os.path.join(source_dir, actor_folder)\n",
        "#     if os.path.isdir(actor_path):\n",
        "#         for filename in os.listdir(actor_path):\n",
        "#             if filename.endswith('.wav'):\n",
        "#                 file_path = os.path.join(actor_path, filename)\n",
        "#                 shutil.move(file_path, target_dir)\n",
        "\n",
        "# print(\"All .wav files have been moved to 'ravdess' in Google Drive.\")"
      ],
      "metadata": {
        "id": "uq1stqQWfHUa"
      },
      "execution_count": null,
      "outputs": []
    },
    {
      "cell_type": "markdown",
      "source": [
        "Filtering RAVDESS based on modality and voice channel"
      ],
      "metadata": {
        "id": "KCt6sPhoYFux"
      }
    },
    {
      "cell_type": "code",
      "source": [
        "# import os\n",
        "# import shutil\n",
        "\n",
        "# source_dir = '/content/drive/MyDrive/Phonetic Analysis/ravdess'\n",
        "# destination_dir = '/content/drive/MyDrive/Phonetic Analysis/rravdess'\n",
        "\n",
        "# # if not os.path.exists(destination_dir):\n",
        "# #     os.makedirs(destination_dir)\n",
        "\n",
        "# for filename in os.listdir(source_dir):\n",
        "#     if filename.endswith('.wav'):\n",
        "#         parts = filename.split('-')\n",
        "#         modality = parts[0]\n",
        "#         vocal_channel = parts[1]\n",
        "\n",
        "#         if modality == '03' and vocal_channel == '01':\n",
        "#             shutil.copy(os.path.join(source_dir, filename), destination_dir)\n",
        "\n",
        "# print(\"Filtering complete. Filtered files are saved in 'rravdess'.\")\n"
      ],
      "metadata": {
        "colab": {
          "base_uri": "https://localhost:8080/",
          "height": 211
        },
        "id": "M4GgdUrwYEOy",
        "outputId": "252e820b-d509-468e-f2ba-f4e720b4ef6a"
      },
      "execution_count": null,
      "outputs": [
        {
          "output_type": "error",
          "ename": "IndexError",
          "evalue": "list index out of range",
          "traceback": [
            "\u001b[0;31m---------------------------------------------------------------------------\u001b[0m",
            "\u001b[0;31mIndexError\u001b[0m                                Traceback (most recent call last)",
            "\u001b[0;32m<ipython-input-16-31ee770b23e7>\u001b[0m in \u001b[0;36m<cell line: 10>\u001b[0;34m()\u001b[0m\n\u001b[1;32m     12\u001b[0m         \u001b[0mparts\u001b[0m \u001b[0;34m=\u001b[0m \u001b[0mfilename\u001b[0m\u001b[0;34m.\u001b[0m\u001b[0msplit\u001b[0m\u001b[0;34m(\u001b[0m\u001b[0;34m'-'\u001b[0m\u001b[0;34m)\u001b[0m\u001b[0;34m\u001b[0m\u001b[0;34m\u001b[0m\u001b[0m\n\u001b[1;32m     13\u001b[0m         \u001b[0mmodality\u001b[0m \u001b[0;34m=\u001b[0m \u001b[0mparts\u001b[0m\u001b[0;34m[\u001b[0m\u001b[0;36m0\u001b[0m\u001b[0;34m]\u001b[0m\u001b[0;34m\u001b[0m\u001b[0;34m\u001b[0m\u001b[0m\n\u001b[0;32m---> 14\u001b[0;31m         \u001b[0mvocal_channel\u001b[0m \u001b[0;34m=\u001b[0m \u001b[0mparts\u001b[0m\u001b[0;34m[\u001b[0m\u001b[0;36m1\u001b[0m\u001b[0;34m]\u001b[0m\u001b[0;34m\u001b[0m\u001b[0;34m\u001b[0m\u001b[0m\n\u001b[0m\u001b[1;32m     15\u001b[0m \u001b[0;34m\u001b[0m\u001b[0m\n\u001b[1;32m     16\u001b[0m         \u001b[0;32mif\u001b[0m \u001b[0mmodality\u001b[0m \u001b[0;34m==\u001b[0m \u001b[0;34m'03'\u001b[0m \u001b[0;32mand\u001b[0m \u001b[0mvocal_channel\u001b[0m \u001b[0;34m==\u001b[0m \u001b[0;34m'01'\u001b[0m\u001b[0;34m:\u001b[0m\u001b[0;34m\u001b[0m\u001b[0;34m\u001b[0m\u001b[0m\n",
            "\u001b[0;31mIndexError\u001b[0m: list index out of range"
          ]
        }
      ]
    }
  ]
}